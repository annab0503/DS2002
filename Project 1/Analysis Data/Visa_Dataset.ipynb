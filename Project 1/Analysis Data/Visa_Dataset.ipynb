{
  "nbformat": 4,
  "nbformat_minor": 0,
  "metadata": {
    "colab": {
      "provenance": [],
      "authorship_tag": "ABX9TyPBolm706XMglnBofKMaJtz",
      "include_colab_link": true
    },
    "kernelspec": {
      "name": "python3",
      "display_name": "Python 3"
    },
    "language_info": {
      "name": "python"
    }
  },
  "cells": [
    {
      "cell_type": "markdown",
      "metadata": {
        "id": "view-in-github",
        "colab_type": "text"
      },
      "source": [
        "<a href=\"https://colab.research.google.com/github/annab0503/DS2002/blob/main/Project%201/Analysis%20Data/Visa_Dataset.ipynb\" target=\"_parent\"><img src=\"https://colab.research.google.com/assets/colab-badge.svg\" alt=\"Open In Colab\"/></a>"
      ]
    },
    {
      "cell_type": "code",
      "source": [
        "#Import Dependencies\n",
        "import pandas as pd\n",
        "import os\n",
        "import requests"
      ],
      "metadata": {
        "id": "cUWiYU070DD9"
      },
      "execution_count": null,
      "outputs": []
    },
    {
      "cell_type": "code",
      "source": [
        "# Step 1: Load the Excel file from URL\n",
        "url = 'https://github.com/annab0503/DS4002/blob/main/Project%201/Original%20Data/FYs97-14_NIVDetailTable.xls?raw=true'\n",
        "response = requests.get(url)\n",
        "excel_file_path = '/content/FYs97-14_NIVDetailTable.xls'\n",
        "\n",
        "# Save the file locally\n",
        "with open(excel_file_path, 'wb') as f:\n",
        "    f.write(response.content)\n",
        "\n",
        "# Load the Excel file\n",
        "excel_data = pd.ExcelFile(excel_file_path)\n",
        "\n",
        "# Directory to save the CSV files\n",
        "csv_directory = '/content/csv_files'\n",
        "os.makedirs(csv_directory, exist_ok=True)  # Ensure the directory exists\n",
        "\n",
        "# Step 2: Iterate through each sheet in the Excel file and save as CSV\n",
        "for sheet_name in excel_data.sheet_names:\n",
        "    # Load the sheet into a DataFrame\n",
        "    df = excel_data.parse(sheet_name)\n",
        "\n",
        "    # Define the output CSV file name\n",
        "    csv_file = os.path.join(csv_directory, f'{sheet_name}.csv')\n",
        "\n",
        "    # Save the DataFrame to a CSV file\n",
        "    df.to_csv(csv_file, index=False)\n",
        "    print(f\"Saved sheet '{sheet_name}' to {csv_file}\")\n",
        "\n",
        "# Step 3: Iterate through each CSV file in the directory and process\n",
        "csv_files = [f for f in os.listdir(csv_directory) if f.endswith('.csv')]\n",
        "\n",
        "# Loop over each CSV file for processing\n",
        "for csv_file in csv_files:\n",
        "    # Load the CSV file\n",
        "    year_data = pd.read_csv(os.path.join(csv_directory, csv_file))\n",
        "\n",
        "    # Drop empty rows\n",
        "    year_data = year_data.dropna(how='all')\n",
        "\n",
        "    # Dynamically find and rename the 'Fiscal Year' column to 'Country'\n",
        "    fiscal_year_column = next((col for col in year_data.columns if 'Fiscal Year' in col), None)\n",
        "    if fiscal_year_column:\n",
        "        year_data.rename(columns={fiscal_year_column: 'Country'}, inplace=True)\n",
        "\n",
        "    # Drop unnecessary description rows like continents and totals\n",
        "    countries_to_drop = ['Africa', 'Asia', 'Europe', 'North America', 'Oceania', 'South America', 'Unknown']\n",
        "    year_data = year_data[~year_data['Country'].isin(countries_to_drop)]\n",
        "\n",
        "    # Drop rows containing 'Totals'\n",
        "    year_data = year_data[~year_data['Country'].str.contains('Totals', na=False)]\n",
        "\n",
        "    # Reshape the DataFrame with 'melt'\n",
        "    year_data = year_data.melt(id_vars=['Country'],\n",
        "                                var_name='Type of U.S. Visa',\n",
        "                                value_name='Quantity of U.S Visas Granted')\n",
        "\n",
        "    # Extract the year from the filename (e.g., 'FY1997.csv')\n",
        "    year = int(csv_file.split('FY')[1].split('.csv')[0])\n",
        "    year_data['Year'] = year\n",
        "\n",
        "    # Save the reshaped DataFrame to a new CSV file\n",
        "    output_file = os.path.join(csv_directory, f\"processed_{csv_file}\")\n",
        "    year_data.to_csv(output_file, index=False)\n",
        "\n",
        "    print(f\"Processed {csv_file} and saved to {output_file}\")"
      ],
      "metadata": {
        "colab": {
          "base_uri": "https://localhost:8080/",
          "height": 668
        },
        "id": "oc6ukxUpZXUA",
        "outputId": "1a1ea3e4-079b-493b-b146-60b295fa6e5e"
      },
      "execution_count": null,
      "outputs": [
        {
          "output_type": "stream",
          "name": "stdout",
          "text": [
            "Saved sheet 'FY97' to /content/csv_files/FY97.csv\n",
            "Saved sheet 'FY98' to /content/csv_files/FY98.csv\n",
            "Saved sheet 'FY99' to /content/csv_files/FY99.csv\n",
            "Saved sheet 'FY00' to /content/csv_files/FY00.csv\n",
            "Saved sheet 'FY01' to /content/csv_files/FY01.csv\n",
            "Saved sheet 'FY02' to /content/csv_files/FY02.csv\n",
            "Saved sheet 'FY03' to /content/csv_files/FY03.csv\n",
            "Saved sheet 'FY04' to /content/csv_files/FY04.csv\n",
            "Saved sheet 'FY05' to /content/csv_files/FY05.csv\n",
            "Saved sheet 'FY06' to /content/csv_files/FY06.csv\n",
            "Saved sheet 'FY07' to /content/csv_files/FY07.csv\n",
            "Saved sheet 'FY08' to /content/csv_files/FY08.csv\n",
            "Saved sheet 'FY09' to /content/csv_files/FY09.csv\n",
            "Saved sheet 'FY10' to /content/csv_files/FY10.csv\n",
            "Saved sheet 'FY11' to /content/csv_files/FY11.csv\n",
            "Saved sheet 'FY12' to /content/csv_files/FY12.csv\n",
            "Saved sheet 'FY13' to /content/csv_files/FY13.csv\n",
            "Saved sheet 'FY14' to /content/csv_files/FY14.csv\n"
          ]
        },
        {
          "output_type": "error",
          "ename": "ValueError",
          "evalue": "value_name (Quantity of U.S Visas Granted) cannot match an element in the DataFrame columns.",
          "traceback": [
            "\u001b[0;31m---------------------------------------------------------------------------\u001b[0m",
            "\u001b[0;31mValueError\u001b[0m                                Traceback (most recent call last)",
            "\u001b[0;32m<ipython-input-2-74246356f84f>\u001b[0m in \u001b[0;36m<cell line: 33>\u001b[0;34m()\u001b[0m\n\u001b[1;32m     51\u001b[0m \u001b[0;34m\u001b[0m\u001b[0m\n\u001b[1;32m     52\u001b[0m     \u001b[0;31m# Reshape the DataFrame with 'melt'\u001b[0m\u001b[0;34m\u001b[0m\u001b[0;34m\u001b[0m\u001b[0m\n\u001b[0;32m---> 53\u001b[0;31m     year_data = year_data.melt(id_vars=['Country'],\n\u001b[0m\u001b[1;32m     54\u001b[0m                                 \u001b[0mvar_name\u001b[0m\u001b[0;34m=\u001b[0m\u001b[0;34m'Type of U.S. Visa'\u001b[0m\u001b[0;34m,\u001b[0m\u001b[0;34m\u001b[0m\u001b[0;34m\u001b[0m\u001b[0m\n\u001b[1;32m     55\u001b[0m                                 value_name='Quantity of U.S Visas Granted')\n",
            "\u001b[0;32m/usr/local/lib/python3.10/dist-packages/pandas/core/frame.py\u001b[0m in \u001b[0;36mmelt\u001b[0;34m(self, id_vars, value_vars, var_name, value_name, col_level, ignore_index)\u001b[0m\n\u001b[1;32m   9940\u001b[0m         \u001b[0mignore_index\u001b[0m\u001b[0;34m:\u001b[0m \u001b[0mbool\u001b[0m \u001b[0;34m=\u001b[0m \u001b[0;32mTrue\u001b[0m\u001b[0;34m,\u001b[0m\u001b[0;34m\u001b[0m\u001b[0;34m\u001b[0m\u001b[0m\n\u001b[1;32m   9941\u001b[0m     ) -> DataFrame:\n\u001b[0;32m-> 9942\u001b[0;31m         return melt(\n\u001b[0m\u001b[1;32m   9943\u001b[0m             \u001b[0mself\u001b[0m\u001b[0;34m,\u001b[0m\u001b[0;34m\u001b[0m\u001b[0;34m\u001b[0m\u001b[0m\n\u001b[1;32m   9944\u001b[0m             \u001b[0mid_vars\u001b[0m\u001b[0;34m=\u001b[0m\u001b[0mid_vars\u001b[0m\u001b[0;34m,\u001b[0m\u001b[0;34m\u001b[0m\u001b[0;34m\u001b[0m\u001b[0m\n",
            "\u001b[0;32m/usr/local/lib/python3.10/dist-packages/pandas/core/reshape/melt.py\u001b[0m in \u001b[0;36mmelt\u001b[0;34m(frame, id_vars, value_vars, var_name, value_name, col_level, ignore_index)\u001b[0m\n\u001b[1;32m     52\u001b[0m ) -> DataFrame:\n\u001b[1;32m     53\u001b[0m     \u001b[0;32mif\u001b[0m \u001b[0mvalue_name\u001b[0m \u001b[0;32min\u001b[0m \u001b[0mframe\u001b[0m\u001b[0;34m.\u001b[0m\u001b[0mcolumns\u001b[0m\u001b[0;34m:\u001b[0m\u001b[0;34m\u001b[0m\u001b[0;34m\u001b[0m\u001b[0m\n\u001b[0;32m---> 54\u001b[0;31m         raise ValueError(\n\u001b[0m\u001b[1;32m     55\u001b[0m             \u001b[0;34mf\"value_name ({value_name}) cannot match an element in \"\u001b[0m\u001b[0;34m\u001b[0m\u001b[0;34m\u001b[0m\u001b[0m\n\u001b[1;32m     56\u001b[0m             \u001b[0;34m\"the DataFrame columns.\"\u001b[0m\u001b[0;34m\u001b[0m\u001b[0;34m\u001b[0m\u001b[0m\n",
            "\u001b[0;31mValueError\u001b[0m: value_name (Quantity of U.S Visas Granted) cannot match an element in the DataFrame columns."
          ]
        }
      ]
    },
    {
      "cell_type": "code",
      "source": [
        "# Directory where processed CSV files are saved\n",
        "csv_directory = '/content/csv_files'\n",
        "\n",
        "# List of processed CSV files\n",
        "processed_csv_files = [f for f in os.listdir(csv_directory) if f.startswith('processed_') and f.endswith('.csv')]\n",
        "\n",
        "# List to hold DataFrames for merging\n",
        "dfs = []\n",
        "\n",
        "# Read each processed CSV file and append it to the list\n",
        "for csv_file in processed_csv_files:\n",
        "    df = pd.read_csv(os.path.join(csv_directory, csv_file))\n",
        "    dfs.append(df)\n",
        "\n",
        "# Concatenate all DataFrames into one\n",
        "merged_df = pd.concat(dfs, ignore_index=True)\n",
        "\n",
        "# Save the merged DataFrame to a new CSV file\n",
        "merged_csv_file = os.path.join(csv_directory, 'merged_data.csv')\n",
        "merged_df.to_csv(merged_csv_file, index=False)\n",
        "\n",
        "print(f\"All processed CSV files merged and saved to {merged_csv_file}\")"
      ],
      "metadata": {
        "id": "jFsGdG1-lljH"
      },
      "execution_count": null,
      "outputs": []
    },
    {
      "cell_type": "code",
      "source": [
        "visa_data = pd.read_csv('/content/csv_files/merged_data.csv')"
      ],
      "metadata": {
        "id": "8AIcPcxHl33S"
      },
      "execution_count": null,
      "outputs": []
    },
    {
      "cell_type": "code",
      "source": [
        "visa_data"
      ],
      "metadata": {
        "id": "rpH0TfCvmHUG"
      },
      "execution_count": null,
      "outputs": []
    },
    {
      "cell_type": "code",
      "source": [
        "# Convert 'Year' column to numeric, coercing errors to NaN\n",
        "visa_data['Year'] = pd.to_numeric(visa_data['Year'], errors='coerce')\n",
        "\n",
        "# Check if any non-numeric values were present\n",
        "print(visa_data['Year'].isna().sum(), \"non-numeric values converted to NaN\")\n",
        "\n",
        "# Define a mapping from the codes to fiscal years\n",
        "\n",
        "code_to_year_map = {\n",
        "    97: 1997,\n",
        "    98: 1998,\n",
        "    99: 1999,\n",
        "    0: 2000,\n",
        "    1: 2001,\n",
        "    2: 2002,\n",
        "    3: 2003,\n",
        "    4: 2004,\n",
        "    5: 2005,\n",
        "    6: 2006,\n",
        "    7: 2007,\n",
        "    8: 2008,\n",
        "    9: 2009,\n",
        "    10: 2010,\n",
        "    11: 2011,\n",
        "    12: 2012,\n",
        "    13: 2013,\n",
        "    14: 2014\n",
        "}\n",
        "\n",
        "# Apply the mapping to the 'Year' column to convert codes to actual years\n",
        "visa_data['Year'] = visa_data['Year'].map(code_to_year_map)"
      ],
      "metadata": {
        "id": "Bs6-vb-Oo6is"
      },
      "execution_count": null,
      "outputs": []
    },
    {
      "cell_type": "code",
      "source": [
        "visa_data"
      ],
      "metadata": {
        "id": "X20Z1mg9ofAM"
      },
      "execution_count": null,
      "outputs": []
    },
    {
      "cell_type": "code",
      "source": [
        "#Export CSV\n",
        "visa_data.to_csv('visa_data.csv', index=False)"
      ],
      "metadata": {
        "id": "2le2eo2E0u3b"
      },
      "execution_count": null,
      "outputs": []
    }
  ]
}