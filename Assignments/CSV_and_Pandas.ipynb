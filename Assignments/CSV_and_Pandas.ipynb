{
  "nbformat": 4,
  "nbformat_minor": 0,
  "metadata": {
    "colab": {
      "provenance": [],
      "mount_file_id": "1aKye2nMosGvQLFI--peQp9xRSbp5JeZV",
      "authorship_tag": "ABX9TyMy+MA89BK3JT9/ZN4eKdUy",
      "include_colab_link": true
    },
    "kernelspec": {
      "name": "python3",
      "display_name": "Python 3"
    },
    "language_info": {
      "name": "python"
    }
  },
  "cells": [
    {
      "cell_type": "markdown",
      "metadata": {
        "id": "view-in-github",
        "colab_type": "text"
      },
      "source": [
        "<a href=\"https://colab.research.google.com/github/annab0503/DS2002/blob/main/Assignments/CSV_and_Pandas.ipynb\" target=\"_parent\"><img src=\"https://colab.research.google.com/assets/colab-badge.svg\" alt=\"Open In Colab\"/></a>"
      ]
    },
    {
      "cell_type": "markdown",
      "source": [
        "**1. Reading the CSV File:**\n",
        "\n",
        "Load the provided CSV file into a pandas DataFrame."
      ],
      "metadata": {
        "id": "yrOs-T3tTyxM"
      }
    },
    {
      "cell_type": "code",
      "execution_count": 12,
      "metadata": {
        "colab": {
          "base_uri": "https://localhost:8080/"
        },
        "id": "wRnxtPlVR8FN",
        "outputId": "7e6de347-3cf8-4f35-aa8b-490a1a0a3ac3"
      },
      "outputs": [
        {
          "output_type": "stream",
          "name": "stdout",
          "text": [
            "Drive already mounted at /content/drive; to attempt to forcibly remount, call drive.mount(\"/content/drive\", force_remount=True).\n"
          ]
        }
      ],
      "source": [
        "# Mount Google Drive\n",
        "from google.colab import drive\n",
        "drive.mount('/content/drive')"
      ]
    },
    {
      "cell_type": "code",
      "source": [
        "# Import dependencies\n",
        "import pandas as pd\n",
        "\n",
        "# Load the regular season and playoff data (semicolon-separated and encoding handled)\n",
        "acc_players_2324 = pd.read_csv('/content/drive/MyDrive/2024 Fall/DS 2002/CSV Files/acc_players-2324F.csv', header=1)"
      ],
      "metadata": {
        "id": "Jf5l1qVVVBjK"
      },
      "execution_count": 11,
      "outputs": []
    },
    {
      "cell_type": "markdown",
      "source": [
        "Display the first 5 rows of the DataFrame to understand the structure of the data."
      ],
      "metadata": {
        "id": "9wL55izvVIjO"
      }
    },
    {
      "cell_type": "code",
      "source": [
        "# Display the first 5 rows of each dataset\n",
        "acc_players_2324.head()"
      ],
      "metadata": {
        "colab": {
          "base_uri": "https://localhost:8080/",
          "height": 362
        },
        "id": "qm0T0i6wSYl-",
        "outputId": "d6c91e3f-1bf1-4a1a-fa23-104aa5b9420b"
      },
      "execution_count": 7,
      "outputs": [
        {
          "output_type": "execute_result",
          "data": {
            "text/plain": [
              "   Rk         Player Class Pos          School   G   MP  TRB  AST  STL  ...  \\\n",
              "0   1   Amaree Abram    SO   G    Georgia Tech  10  108   17   11    1  ...   \n",
              "1   2   Sola Adebisi    FR   F   Florida State   7    9    1    1    0  ...   \n",
              "2   3  Prince Aligbe    SO   F  Boston College  35  651  119   21   15  ...   \n",
              "3   4     Abe Atiyeh    SR   G  Boston College   4    6    0    0    0  ...   \n",
              "4   5    Zack Austin    JR   F      Pittsburgh  33  746  137   29   32  ...   \n",
              "\n",
              "   TOV  PF  PTS    FG%    2P%    3P%    FT%   PER   WS  BPM  \n",
              "0    9  10   34  0.262  0.318  0.200  0.615   4.1 -0.1 -6.4  \n",
              "1    1   1    2  0.500  0.500    NaN    NaN   3.5  0.0 -6.7  \n",
              "2   30  51  164  0.435  0.522  0.147  0.620   9.4  0.9 -1.3  \n",
              "3    1   0    3  0.333  0.000  1.000    NaN   1.1  0.0 -8.2  \n",
              "4   13  35  216  0.417  0.563  0.295  0.737  18.0  2.9  7.9  \n",
              "\n",
              "[5 rows x 21 columns]"
            ],
            "text/html": [
              "\n",
              "  <div id=\"df-f93bfbdf-22a3-43a4-a480-637f8043330a\" class=\"colab-df-container\">\n",
              "    <div>\n",
              "<style scoped>\n",
              "    .dataframe tbody tr th:only-of-type {\n",
              "        vertical-align: middle;\n",
              "    }\n",
              "\n",
              "    .dataframe tbody tr th {\n",
              "        vertical-align: top;\n",
              "    }\n",
              "\n",
              "    .dataframe thead th {\n",
              "        text-align: right;\n",
              "    }\n",
              "</style>\n",
              "<table border=\"1\" class=\"dataframe\">\n",
              "  <thead>\n",
              "    <tr style=\"text-align: right;\">\n",
              "      <th></th>\n",
              "      <th>Rk</th>\n",
              "      <th>Player</th>\n",
              "      <th>Class</th>\n",
              "      <th>Pos</th>\n",
              "      <th>School</th>\n",
              "      <th>G</th>\n",
              "      <th>MP</th>\n",
              "      <th>TRB</th>\n",
              "      <th>AST</th>\n",
              "      <th>STL</th>\n",
              "      <th>...</th>\n",
              "      <th>TOV</th>\n",
              "      <th>PF</th>\n",
              "      <th>PTS</th>\n",
              "      <th>FG%</th>\n",
              "      <th>2P%</th>\n",
              "      <th>3P%</th>\n",
              "      <th>FT%</th>\n",
              "      <th>PER</th>\n",
              "      <th>WS</th>\n",
              "      <th>BPM</th>\n",
              "    </tr>\n",
              "  </thead>\n",
              "  <tbody>\n",
              "    <tr>\n",
              "      <th>0</th>\n",
              "      <td>1</td>\n",
              "      <td>Amaree Abram</td>\n",
              "      <td>SO</td>\n",
              "      <td>G</td>\n",
              "      <td>Georgia Tech</td>\n",
              "      <td>10</td>\n",
              "      <td>108</td>\n",
              "      <td>17</td>\n",
              "      <td>11</td>\n",
              "      <td>1</td>\n",
              "      <td>...</td>\n",
              "      <td>9</td>\n",
              "      <td>10</td>\n",
              "      <td>34</td>\n",
              "      <td>0.262</td>\n",
              "      <td>0.318</td>\n",
              "      <td>0.200</td>\n",
              "      <td>0.615</td>\n",
              "      <td>4.1</td>\n",
              "      <td>-0.1</td>\n",
              "      <td>-6.4</td>\n",
              "    </tr>\n",
              "    <tr>\n",
              "      <th>1</th>\n",
              "      <td>2</td>\n",
              "      <td>Sola Adebisi</td>\n",
              "      <td>FR</td>\n",
              "      <td>F</td>\n",
              "      <td>Florida State</td>\n",
              "      <td>7</td>\n",
              "      <td>9</td>\n",
              "      <td>1</td>\n",
              "      <td>1</td>\n",
              "      <td>0</td>\n",
              "      <td>...</td>\n",
              "      <td>1</td>\n",
              "      <td>1</td>\n",
              "      <td>2</td>\n",
              "      <td>0.500</td>\n",
              "      <td>0.500</td>\n",
              "      <td>NaN</td>\n",
              "      <td>NaN</td>\n",
              "      <td>3.5</td>\n",
              "      <td>0.0</td>\n",
              "      <td>-6.7</td>\n",
              "    </tr>\n",
              "    <tr>\n",
              "      <th>2</th>\n",
              "      <td>3</td>\n",
              "      <td>Prince Aligbe</td>\n",
              "      <td>SO</td>\n",
              "      <td>F</td>\n",
              "      <td>Boston College</td>\n",
              "      <td>35</td>\n",
              "      <td>651</td>\n",
              "      <td>119</td>\n",
              "      <td>21</td>\n",
              "      <td>15</td>\n",
              "      <td>...</td>\n",
              "      <td>30</td>\n",
              "      <td>51</td>\n",
              "      <td>164</td>\n",
              "      <td>0.435</td>\n",
              "      <td>0.522</td>\n",
              "      <td>0.147</td>\n",
              "      <td>0.620</td>\n",
              "      <td>9.4</td>\n",
              "      <td>0.9</td>\n",
              "      <td>-1.3</td>\n",
              "    </tr>\n",
              "    <tr>\n",
              "      <th>3</th>\n",
              "      <td>4</td>\n",
              "      <td>Abe Atiyeh</td>\n",
              "      <td>SR</td>\n",
              "      <td>G</td>\n",
              "      <td>Boston College</td>\n",
              "      <td>4</td>\n",
              "      <td>6</td>\n",
              "      <td>0</td>\n",
              "      <td>0</td>\n",
              "      <td>0</td>\n",
              "      <td>...</td>\n",
              "      <td>1</td>\n",
              "      <td>0</td>\n",
              "      <td>3</td>\n",
              "      <td>0.333</td>\n",
              "      <td>0.000</td>\n",
              "      <td>1.000</td>\n",
              "      <td>NaN</td>\n",
              "      <td>1.1</td>\n",
              "      <td>0.0</td>\n",
              "      <td>-8.2</td>\n",
              "    </tr>\n",
              "    <tr>\n",
              "      <th>4</th>\n",
              "      <td>5</td>\n",
              "      <td>Zack Austin</td>\n",
              "      <td>JR</td>\n",
              "      <td>F</td>\n",
              "      <td>Pittsburgh</td>\n",
              "      <td>33</td>\n",
              "      <td>746</td>\n",
              "      <td>137</td>\n",
              "      <td>29</td>\n",
              "      <td>32</td>\n",
              "      <td>...</td>\n",
              "      <td>13</td>\n",
              "      <td>35</td>\n",
              "      <td>216</td>\n",
              "      <td>0.417</td>\n",
              "      <td>0.563</td>\n",
              "      <td>0.295</td>\n",
              "      <td>0.737</td>\n",
              "      <td>18.0</td>\n",
              "      <td>2.9</td>\n",
              "      <td>7.9</td>\n",
              "    </tr>\n",
              "  </tbody>\n",
              "</table>\n",
              "<p>5 rows × 21 columns</p>\n",
              "</div>\n",
              "    <div class=\"colab-df-buttons\">\n",
              "\n",
              "  <div class=\"colab-df-container\">\n",
              "    <button class=\"colab-df-convert\" onclick=\"convertToInteractive('df-f93bfbdf-22a3-43a4-a480-637f8043330a')\"\n",
              "            title=\"Convert this dataframe to an interactive table.\"\n",
              "            style=\"display:none;\">\n",
              "\n",
              "  <svg xmlns=\"http://www.w3.org/2000/svg\" height=\"24px\" viewBox=\"0 -960 960 960\">\n",
              "    <path d=\"M120-120v-720h720v720H120Zm60-500h600v-160H180v160Zm220 220h160v-160H400v160Zm0 220h160v-160H400v160ZM180-400h160v-160H180v160Zm440 0h160v-160H620v160ZM180-180h160v-160H180v160Zm440 0h160v-160H620v160Z\"/>\n",
              "  </svg>\n",
              "    </button>\n",
              "\n",
              "  <style>\n",
              "    .colab-df-container {\n",
              "      display:flex;\n",
              "      gap: 12px;\n",
              "    }\n",
              "\n",
              "    .colab-df-convert {\n",
              "      background-color: #E8F0FE;\n",
              "      border: none;\n",
              "      border-radius: 50%;\n",
              "      cursor: pointer;\n",
              "      display: none;\n",
              "      fill: #1967D2;\n",
              "      height: 32px;\n",
              "      padding: 0 0 0 0;\n",
              "      width: 32px;\n",
              "    }\n",
              "\n",
              "    .colab-df-convert:hover {\n",
              "      background-color: #E2EBFA;\n",
              "      box-shadow: 0px 1px 2px rgba(60, 64, 67, 0.3), 0px 1px 3px 1px rgba(60, 64, 67, 0.15);\n",
              "      fill: #174EA6;\n",
              "    }\n",
              "\n",
              "    .colab-df-buttons div {\n",
              "      margin-bottom: 4px;\n",
              "    }\n",
              "\n",
              "    [theme=dark] .colab-df-convert {\n",
              "      background-color: #3B4455;\n",
              "      fill: #D2E3FC;\n",
              "    }\n",
              "\n",
              "    [theme=dark] .colab-df-convert:hover {\n",
              "      background-color: #434B5C;\n",
              "      box-shadow: 0px 1px 3px 1px rgba(0, 0, 0, 0.15);\n",
              "      filter: drop-shadow(0px 1px 2px rgba(0, 0, 0, 0.3));\n",
              "      fill: #FFFFFF;\n",
              "    }\n",
              "  </style>\n",
              "\n",
              "    <script>\n",
              "      const buttonEl =\n",
              "        document.querySelector('#df-f93bfbdf-22a3-43a4-a480-637f8043330a button.colab-df-convert');\n",
              "      buttonEl.style.display =\n",
              "        google.colab.kernel.accessAllowed ? 'block' : 'none';\n",
              "\n",
              "      async function convertToInteractive(key) {\n",
              "        const element = document.querySelector('#df-f93bfbdf-22a3-43a4-a480-637f8043330a');\n",
              "        const dataTable =\n",
              "          await google.colab.kernel.invokeFunction('convertToInteractive',\n",
              "                                                    [key], {});\n",
              "        if (!dataTable) return;\n",
              "\n",
              "        const docLinkHtml = 'Like what you see? Visit the ' +\n",
              "          '<a target=\"_blank\" href=https://colab.research.google.com/notebooks/data_table.ipynb>data table notebook</a>'\n",
              "          + ' to learn more about interactive tables.';\n",
              "        element.innerHTML = '';\n",
              "        dataTable['output_type'] = 'display_data';\n",
              "        await google.colab.output.renderOutput(dataTable, element);\n",
              "        const docLink = document.createElement('div');\n",
              "        docLink.innerHTML = docLinkHtml;\n",
              "        element.appendChild(docLink);\n",
              "      }\n",
              "    </script>\n",
              "  </div>\n",
              "\n",
              "\n",
              "<div id=\"df-d34e52b6-bc13-4a71-a02b-9206ee068cb2\">\n",
              "  <button class=\"colab-df-quickchart\" onclick=\"quickchart('df-d34e52b6-bc13-4a71-a02b-9206ee068cb2')\"\n",
              "            title=\"Suggest charts\"\n",
              "            style=\"display:none;\">\n",
              "\n",
              "<svg xmlns=\"http://www.w3.org/2000/svg\" height=\"24px\"viewBox=\"0 0 24 24\"\n",
              "     width=\"24px\">\n",
              "    <g>\n",
              "        <path d=\"M19 3H5c-1.1 0-2 .9-2 2v14c0 1.1.9 2 2 2h14c1.1 0 2-.9 2-2V5c0-1.1-.9-2-2-2zM9 17H7v-7h2v7zm4 0h-2V7h2v10zm4 0h-2v-4h2v4z\"/>\n",
              "    </g>\n",
              "</svg>\n",
              "  </button>\n",
              "\n",
              "<style>\n",
              "  .colab-df-quickchart {\n",
              "      --bg-color: #E8F0FE;\n",
              "      --fill-color: #1967D2;\n",
              "      --hover-bg-color: #E2EBFA;\n",
              "      --hover-fill-color: #174EA6;\n",
              "      --disabled-fill-color: #AAA;\n",
              "      --disabled-bg-color: #DDD;\n",
              "  }\n",
              "\n",
              "  [theme=dark] .colab-df-quickchart {\n",
              "      --bg-color: #3B4455;\n",
              "      --fill-color: #D2E3FC;\n",
              "      --hover-bg-color: #434B5C;\n",
              "      --hover-fill-color: #FFFFFF;\n",
              "      --disabled-bg-color: #3B4455;\n",
              "      --disabled-fill-color: #666;\n",
              "  }\n",
              "\n",
              "  .colab-df-quickchart {\n",
              "    background-color: var(--bg-color);\n",
              "    border: none;\n",
              "    border-radius: 50%;\n",
              "    cursor: pointer;\n",
              "    display: none;\n",
              "    fill: var(--fill-color);\n",
              "    height: 32px;\n",
              "    padding: 0;\n",
              "    width: 32px;\n",
              "  }\n",
              "\n",
              "  .colab-df-quickchart:hover {\n",
              "    background-color: var(--hover-bg-color);\n",
              "    box-shadow: 0 1px 2px rgba(60, 64, 67, 0.3), 0 1px 3px 1px rgba(60, 64, 67, 0.15);\n",
              "    fill: var(--button-hover-fill-color);\n",
              "  }\n",
              "\n",
              "  .colab-df-quickchart-complete:disabled,\n",
              "  .colab-df-quickchart-complete:disabled:hover {\n",
              "    background-color: var(--disabled-bg-color);\n",
              "    fill: var(--disabled-fill-color);\n",
              "    box-shadow: none;\n",
              "  }\n",
              "\n",
              "  .colab-df-spinner {\n",
              "    border: 2px solid var(--fill-color);\n",
              "    border-color: transparent;\n",
              "    border-bottom-color: var(--fill-color);\n",
              "    animation:\n",
              "      spin 1s steps(1) infinite;\n",
              "  }\n",
              "\n",
              "  @keyframes spin {\n",
              "    0% {\n",
              "      border-color: transparent;\n",
              "      border-bottom-color: var(--fill-color);\n",
              "      border-left-color: var(--fill-color);\n",
              "    }\n",
              "    20% {\n",
              "      border-color: transparent;\n",
              "      border-left-color: var(--fill-color);\n",
              "      border-top-color: var(--fill-color);\n",
              "    }\n",
              "    30% {\n",
              "      border-color: transparent;\n",
              "      border-left-color: var(--fill-color);\n",
              "      border-top-color: var(--fill-color);\n",
              "      border-right-color: var(--fill-color);\n",
              "    }\n",
              "    40% {\n",
              "      border-color: transparent;\n",
              "      border-right-color: var(--fill-color);\n",
              "      border-top-color: var(--fill-color);\n",
              "    }\n",
              "    60% {\n",
              "      border-color: transparent;\n",
              "      border-right-color: var(--fill-color);\n",
              "    }\n",
              "    80% {\n",
              "      border-color: transparent;\n",
              "      border-right-color: var(--fill-color);\n",
              "      border-bottom-color: var(--fill-color);\n",
              "    }\n",
              "    90% {\n",
              "      border-color: transparent;\n",
              "      border-bottom-color: var(--fill-color);\n",
              "    }\n",
              "  }\n",
              "</style>\n",
              "\n",
              "  <script>\n",
              "    async function quickchart(key) {\n",
              "      const quickchartButtonEl =\n",
              "        document.querySelector('#' + key + ' button');\n",
              "      quickchartButtonEl.disabled = true;  // To prevent multiple clicks.\n",
              "      quickchartButtonEl.classList.add('colab-df-spinner');\n",
              "      try {\n",
              "        const charts = await google.colab.kernel.invokeFunction(\n",
              "            'suggestCharts', [key], {});\n",
              "      } catch (error) {\n",
              "        console.error('Error during call to suggestCharts:', error);\n",
              "      }\n",
              "      quickchartButtonEl.classList.remove('colab-df-spinner');\n",
              "      quickchartButtonEl.classList.add('colab-df-quickchart-complete');\n",
              "    }\n",
              "    (() => {\n",
              "      let quickchartButtonEl =\n",
              "        document.querySelector('#df-d34e52b6-bc13-4a71-a02b-9206ee068cb2 button');\n",
              "      quickchartButtonEl.style.display =\n",
              "        google.colab.kernel.accessAllowed ? 'block' : 'none';\n",
              "    })();\n",
              "  </script>\n",
              "</div>\n",
              "\n",
              "    </div>\n",
              "  </div>\n"
            ],
            "application/vnd.google.colaboratory.intrinsic+json": {
              "type": "dataframe",
              "variable_name": "acc_players_2324"
            }
          },
          "metadata": {},
          "execution_count": 7
        },
        {
          "output_type": "stream",
          "name": "stdout",
          "text": [
            "Warning: Total number of columns (21) exceeds max_columns (20) limiting to first (20) columns.\n"
          ]
        }
      ]
    },
    {
      "cell_type": "markdown",
      "source": [
        "**2. Basic Analysis**\n",
        "\n",
        "Calculate the total points scored by all players combined."
      ],
      "metadata": {
        "id": "AGWPR3HDT6xS"
      }
    },
    {
      "cell_type": "code",
      "source": [
        "total_points = acc_players_2324['PTS'].sum()\n",
        "print(f\"Total points scored by all players: {total_points}\")\n"
      ],
      "metadata": {
        "colab": {
          "base_uri": "https://localhost:8080/"
        },
        "id": "RzHvdpibTs2B",
        "outputId": "b92f4db7-3f31-43fd-9884-776e18d85bf4"
      },
      "execution_count": 8,
      "outputs": [
        {
          "output_type": "stream",
          "name": "stdout",
          "text": [
            "Total points scored by all players: 38411\n"
          ]
        }
      ]
    },
    {
      "cell_type": "markdown",
      "source": [
        "Find the player who has played the most minutes (MP)."
      ],
      "metadata": {
        "id": "T1ZhqKdQVR6f"
      }
    },
    {
      "cell_type": "code",
      "source": [
        "# Find the player who has played the most minutes (MP).\n",
        "most_minutes = acc_players_2324.loc[acc_players_2324['MP'].idxmax()]\n",
        "\n",
        "print(f\"The player with the most minutes played is: {most_minutes['Player']}\")"
      ],
      "metadata": {
        "colab": {
          "base_uri": "https://localhost:8080/"
        },
        "id": "KXLuTIJjUE1I",
        "outputId": "43ecbfd1-5ed8-4f57-d221-9e7f48e2e3ba"
      },
      "execution_count": 9,
      "outputs": [
        {
          "output_type": "stream",
          "name": "stdout",
          "text": [
            "The player with the most minutes played is: Casey Morsell\n"
          ]
        }
      ]
    },
    {
      "cell_type": "markdown",
      "source": [
        "Identify the top 5 players in terms of total rebounds (TRB)."
      ],
      "metadata": {
        "id": "lGPoRoJcVSw4"
      }
    },
    {
      "cell_type": "code",
      "source": [
        "# Identify the top 5 players in terms of total rebounds (TRB).\n",
        "\n",
        "# Sort the DataFrame by total rebounds (TRB) in descending order and get the top 5\n",
        "top_5_rebounders = acc_players_2324.sort_values('TRB', ascending=False).head(5)\n",
        "\n",
        "# Display the top 5 players\n",
        "print(\"Top 5 Players in terms of Total Rebounds:\")\n",
        "print(top_5_rebounders[['Player', 'TRB']])\n"
      ],
      "metadata": {
        "colab": {
          "base_uri": "https://localhost:8080/"
        },
        "id": "DPK_99dYUVdi",
        "outputId": "c975ee61-545e-45d3-8cf8-0994c44dfbaa"
      },
      "execution_count": 10,
      "outputs": [
        {
          "output_type": "stream",
          "name": "stdout",
          "text": [
            "Top 5 Players in terms of Total Rebounds:\n",
            "              Player  TRB\n",
            "5      Armando Bacot  380\n",
            "178  Ian Schieffelin  340\n",
            "90   Harrison Ingram  327\n",
            "44    Mohamed Diarra  311\n",
            "149    Norchad Omier  309\n"
          ]
        }
      ]
    },
    {
      "cell_type": "markdown",
      "source": [
        "**3. Player Filtering**\n",
        "\n",
        "Create a new DataFrame containing only players who played more than 500 minutes."
      ],
      "metadata": {
        "id": "H8YWs6lhUrdz"
      }
    },
    {
      "cell_type": "code",
      "source": [
        "players_500 = acc_players_2324[acc_players_2324['MP'] > 500]\n",
        "\n",
        "# Display the new DataFrame\n",
        "print(\"Players who played more than 500 minutes:\")\n",
        "players_500.head()\n"
      ],
      "metadata": {
        "colab": {
          "base_uri": "https://localhost:8080/",
          "height": 380
        },
        "id": "FZKTmdYFUmvV",
        "outputId": "9add0d92-e598-471f-c1ce-9276d54fdab6"
      },
      "execution_count": 16,
      "outputs": [
        {
          "output_type": "stream",
          "name": "stdout",
          "text": [
            "Players who played more than 500 minutes:\n"
          ]
        },
        {
          "output_type": "execute_result",
          "data": {
            "text/plain": [
              "   Rk         Player Class Pos          School   G    MP  TRB  AST  STL  ...  \\\n",
              "2   3  Prince Aligbe    SO   F  Boston College  35   651  119   21   15  ...   \n",
              "4   5    Zack Austin    JR   F      Pittsburgh  33   746  137   29   32  ...   \n",
              "5   6  Armando Bacot    SR   F  North Carolina  37  1123  380   56   22  ...   \n",
              "7   8  Reece Beekman    SR   G        Virginia  34  1114  124  212   68  ...   \n",
              "9  10     Chris Bell    SO   F        Syracuse  32   865   75   21   18  ...   \n",
              "\n",
              "   TOV   PF  PTS    FG%    2P%    3P%    FT%   PER   WS   BPM  \n",
              "2   30   51  164  0.435  0.522  0.147  0.620   9.4  0.9  -1.3  \n",
              "4   13   35  216  0.417  0.563  0.295  0.737  18.0  2.9   7.9  \n",
              "5   60  100  538  0.540  0.544  0.400  0.781  24.6  6.1   8.9  \n",
              "7   70   43  486  0.443  0.487  0.310  0.754  23.4  4.9  10.5  \n",
              "9   26   58  384  0.434  0.459  0.420  0.842  14.9  2.2   3.3  \n",
              "\n",
              "[5 rows x 21 columns]"
            ],
            "text/html": [
              "\n",
              "  <div id=\"df-46ca9d6b-bfb8-4c83-bb91-c165d9fe459b\" class=\"colab-df-container\">\n",
              "    <div>\n",
              "<style scoped>\n",
              "    .dataframe tbody tr th:only-of-type {\n",
              "        vertical-align: middle;\n",
              "    }\n",
              "\n",
              "    .dataframe tbody tr th {\n",
              "        vertical-align: top;\n",
              "    }\n",
              "\n",
              "    .dataframe thead th {\n",
              "        text-align: right;\n",
              "    }\n",
              "</style>\n",
              "<table border=\"1\" class=\"dataframe\">\n",
              "  <thead>\n",
              "    <tr style=\"text-align: right;\">\n",
              "      <th></th>\n",
              "      <th>Rk</th>\n",
              "      <th>Player</th>\n",
              "      <th>Class</th>\n",
              "      <th>Pos</th>\n",
              "      <th>School</th>\n",
              "      <th>G</th>\n",
              "      <th>MP</th>\n",
              "      <th>TRB</th>\n",
              "      <th>AST</th>\n",
              "      <th>STL</th>\n",
              "      <th>...</th>\n",
              "      <th>TOV</th>\n",
              "      <th>PF</th>\n",
              "      <th>PTS</th>\n",
              "      <th>FG%</th>\n",
              "      <th>2P%</th>\n",
              "      <th>3P%</th>\n",
              "      <th>FT%</th>\n",
              "      <th>PER</th>\n",
              "      <th>WS</th>\n",
              "      <th>BPM</th>\n",
              "    </tr>\n",
              "  </thead>\n",
              "  <tbody>\n",
              "    <tr>\n",
              "      <th>2</th>\n",
              "      <td>3</td>\n",
              "      <td>Prince Aligbe</td>\n",
              "      <td>SO</td>\n",
              "      <td>F</td>\n",
              "      <td>Boston College</td>\n",
              "      <td>35</td>\n",
              "      <td>651</td>\n",
              "      <td>119</td>\n",
              "      <td>21</td>\n",
              "      <td>15</td>\n",
              "      <td>...</td>\n",
              "      <td>30</td>\n",
              "      <td>51</td>\n",
              "      <td>164</td>\n",
              "      <td>0.435</td>\n",
              "      <td>0.522</td>\n",
              "      <td>0.147</td>\n",
              "      <td>0.620</td>\n",
              "      <td>9.4</td>\n",
              "      <td>0.9</td>\n",
              "      <td>-1.3</td>\n",
              "    </tr>\n",
              "    <tr>\n",
              "      <th>4</th>\n",
              "      <td>5</td>\n",
              "      <td>Zack Austin</td>\n",
              "      <td>JR</td>\n",
              "      <td>F</td>\n",
              "      <td>Pittsburgh</td>\n",
              "      <td>33</td>\n",
              "      <td>746</td>\n",
              "      <td>137</td>\n",
              "      <td>29</td>\n",
              "      <td>32</td>\n",
              "      <td>...</td>\n",
              "      <td>13</td>\n",
              "      <td>35</td>\n",
              "      <td>216</td>\n",
              "      <td>0.417</td>\n",
              "      <td>0.563</td>\n",
              "      <td>0.295</td>\n",
              "      <td>0.737</td>\n",
              "      <td>18.0</td>\n",
              "      <td>2.9</td>\n",
              "      <td>7.9</td>\n",
              "    </tr>\n",
              "    <tr>\n",
              "      <th>5</th>\n",
              "      <td>6</td>\n",
              "      <td>Armando Bacot</td>\n",
              "      <td>SR</td>\n",
              "      <td>F</td>\n",
              "      <td>North Carolina</td>\n",
              "      <td>37</td>\n",
              "      <td>1123</td>\n",
              "      <td>380</td>\n",
              "      <td>56</td>\n",
              "      <td>22</td>\n",
              "      <td>...</td>\n",
              "      <td>60</td>\n",
              "      <td>100</td>\n",
              "      <td>538</td>\n",
              "      <td>0.540</td>\n",
              "      <td>0.544</td>\n",
              "      <td>0.400</td>\n",
              "      <td>0.781</td>\n",
              "      <td>24.6</td>\n",
              "      <td>6.1</td>\n",
              "      <td>8.9</td>\n",
              "    </tr>\n",
              "    <tr>\n",
              "      <th>7</th>\n",
              "      <td>8</td>\n",
              "      <td>Reece Beekman</td>\n",
              "      <td>SR</td>\n",
              "      <td>G</td>\n",
              "      <td>Virginia</td>\n",
              "      <td>34</td>\n",
              "      <td>1114</td>\n",
              "      <td>124</td>\n",
              "      <td>212</td>\n",
              "      <td>68</td>\n",
              "      <td>...</td>\n",
              "      <td>70</td>\n",
              "      <td>43</td>\n",
              "      <td>486</td>\n",
              "      <td>0.443</td>\n",
              "      <td>0.487</td>\n",
              "      <td>0.310</td>\n",
              "      <td>0.754</td>\n",
              "      <td>23.4</td>\n",
              "      <td>4.9</td>\n",
              "      <td>10.5</td>\n",
              "    </tr>\n",
              "    <tr>\n",
              "      <th>9</th>\n",
              "      <td>10</td>\n",
              "      <td>Chris Bell</td>\n",
              "      <td>SO</td>\n",
              "      <td>F</td>\n",
              "      <td>Syracuse</td>\n",
              "      <td>32</td>\n",
              "      <td>865</td>\n",
              "      <td>75</td>\n",
              "      <td>21</td>\n",
              "      <td>18</td>\n",
              "      <td>...</td>\n",
              "      <td>26</td>\n",
              "      <td>58</td>\n",
              "      <td>384</td>\n",
              "      <td>0.434</td>\n",
              "      <td>0.459</td>\n",
              "      <td>0.420</td>\n",
              "      <td>0.842</td>\n",
              "      <td>14.9</td>\n",
              "      <td>2.2</td>\n",
              "      <td>3.3</td>\n",
              "    </tr>\n",
              "  </tbody>\n",
              "</table>\n",
              "<p>5 rows × 21 columns</p>\n",
              "</div>\n",
              "    <div class=\"colab-df-buttons\">\n",
              "\n",
              "  <div class=\"colab-df-container\">\n",
              "    <button class=\"colab-df-convert\" onclick=\"convertToInteractive('df-46ca9d6b-bfb8-4c83-bb91-c165d9fe459b')\"\n",
              "            title=\"Convert this dataframe to an interactive table.\"\n",
              "            style=\"display:none;\">\n",
              "\n",
              "  <svg xmlns=\"http://www.w3.org/2000/svg\" height=\"24px\" viewBox=\"0 -960 960 960\">\n",
              "    <path d=\"M120-120v-720h720v720H120Zm60-500h600v-160H180v160Zm220 220h160v-160H400v160Zm0 220h160v-160H400v160ZM180-400h160v-160H180v160Zm440 0h160v-160H620v160ZM180-180h160v-160H180v160Zm440 0h160v-160H620v160Z\"/>\n",
              "  </svg>\n",
              "    </button>\n",
              "\n",
              "  <style>\n",
              "    .colab-df-container {\n",
              "      display:flex;\n",
              "      gap: 12px;\n",
              "    }\n",
              "\n",
              "    .colab-df-convert {\n",
              "      background-color: #E8F0FE;\n",
              "      border: none;\n",
              "      border-radius: 50%;\n",
              "      cursor: pointer;\n",
              "      display: none;\n",
              "      fill: #1967D2;\n",
              "      height: 32px;\n",
              "      padding: 0 0 0 0;\n",
              "      width: 32px;\n",
              "    }\n",
              "\n",
              "    .colab-df-convert:hover {\n",
              "      background-color: #E2EBFA;\n",
              "      box-shadow: 0px 1px 2px rgba(60, 64, 67, 0.3), 0px 1px 3px 1px rgba(60, 64, 67, 0.15);\n",
              "      fill: #174EA6;\n",
              "    }\n",
              "\n",
              "    .colab-df-buttons div {\n",
              "      margin-bottom: 4px;\n",
              "    }\n",
              "\n",
              "    [theme=dark] .colab-df-convert {\n",
              "      background-color: #3B4455;\n",
              "      fill: #D2E3FC;\n",
              "    }\n",
              "\n",
              "    [theme=dark] .colab-df-convert:hover {\n",
              "      background-color: #434B5C;\n",
              "      box-shadow: 0px 1px 3px 1px rgba(0, 0, 0, 0.15);\n",
              "      filter: drop-shadow(0px 1px 2px rgba(0, 0, 0, 0.3));\n",
              "      fill: #FFFFFF;\n",
              "    }\n",
              "  </style>\n",
              "\n",
              "    <script>\n",
              "      const buttonEl =\n",
              "        document.querySelector('#df-46ca9d6b-bfb8-4c83-bb91-c165d9fe459b button.colab-df-convert');\n",
              "      buttonEl.style.display =\n",
              "        google.colab.kernel.accessAllowed ? 'block' : 'none';\n",
              "\n",
              "      async function convertToInteractive(key) {\n",
              "        const element = document.querySelector('#df-46ca9d6b-bfb8-4c83-bb91-c165d9fe459b');\n",
              "        const dataTable =\n",
              "          await google.colab.kernel.invokeFunction('convertToInteractive',\n",
              "                                                    [key], {});\n",
              "        if (!dataTable) return;\n",
              "\n",
              "        const docLinkHtml = 'Like what you see? Visit the ' +\n",
              "          '<a target=\"_blank\" href=https://colab.research.google.com/notebooks/data_table.ipynb>data table notebook</a>'\n",
              "          + ' to learn more about interactive tables.';\n",
              "        element.innerHTML = '';\n",
              "        dataTable['output_type'] = 'display_data';\n",
              "        await google.colab.output.renderOutput(dataTable, element);\n",
              "        const docLink = document.createElement('div');\n",
              "        docLink.innerHTML = docLinkHtml;\n",
              "        element.appendChild(docLink);\n",
              "      }\n",
              "    </script>\n",
              "  </div>\n",
              "\n",
              "\n",
              "<div id=\"df-6299d265-6256-4ec3-824b-d5a7e671b57d\">\n",
              "  <button class=\"colab-df-quickchart\" onclick=\"quickchart('df-6299d265-6256-4ec3-824b-d5a7e671b57d')\"\n",
              "            title=\"Suggest charts\"\n",
              "            style=\"display:none;\">\n",
              "\n",
              "<svg xmlns=\"http://www.w3.org/2000/svg\" height=\"24px\"viewBox=\"0 0 24 24\"\n",
              "     width=\"24px\">\n",
              "    <g>\n",
              "        <path d=\"M19 3H5c-1.1 0-2 .9-2 2v14c0 1.1.9 2 2 2h14c1.1 0 2-.9 2-2V5c0-1.1-.9-2-2-2zM9 17H7v-7h2v7zm4 0h-2V7h2v10zm4 0h-2v-4h2v4z\"/>\n",
              "    </g>\n",
              "</svg>\n",
              "  </button>\n",
              "\n",
              "<style>\n",
              "  .colab-df-quickchart {\n",
              "      --bg-color: #E8F0FE;\n",
              "      --fill-color: #1967D2;\n",
              "      --hover-bg-color: #E2EBFA;\n",
              "      --hover-fill-color: #174EA6;\n",
              "      --disabled-fill-color: #AAA;\n",
              "      --disabled-bg-color: #DDD;\n",
              "  }\n",
              "\n",
              "  [theme=dark] .colab-df-quickchart {\n",
              "      --bg-color: #3B4455;\n",
              "      --fill-color: #D2E3FC;\n",
              "      --hover-bg-color: #434B5C;\n",
              "      --hover-fill-color: #FFFFFF;\n",
              "      --disabled-bg-color: #3B4455;\n",
              "      --disabled-fill-color: #666;\n",
              "  }\n",
              "\n",
              "  .colab-df-quickchart {\n",
              "    background-color: var(--bg-color);\n",
              "    border: none;\n",
              "    border-radius: 50%;\n",
              "    cursor: pointer;\n",
              "    display: none;\n",
              "    fill: var(--fill-color);\n",
              "    height: 32px;\n",
              "    padding: 0;\n",
              "    width: 32px;\n",
              "  }\n",
              "\n",
              "  .colab-df-quickchart:hover {\n",
              "    background-color: var(--hover-bg-color);\n",
              "    box-shadow: 0 1px 2px rgba(60, 64, 67, 0.3), 0 1px 3px 1px rgba(60, 64, 67, 0.15);\n",
              "    fill: var(--button-hover-fill-color);\n",
              "  }\n",
              "\n",
              "  .colab-df-quickchart-complete:disabled,\n",
              "  .colab-df-quickchart-complete:disabled:hover {\n",
              "    background-color: var(--disabled-bg-color);\n",
              "    fill: var(--disabled-fill-color);\n",
              "    box-shadow: none;\n",
              "  }\n",
              "\n",
              "  .colab-df-spinner {\n",
              "    border: 2px solid var(--fill-color);\n",
              "    border-color: transparent;\n",
              "    border-bottom-color: var(--fill-color);\n",
              "    animation:\n",
              "      spin 1s steps(1) infinite;\n",
              "  }\n",
              "\n",
              "  @keyframes spin {\n",
              "    0% {\n",
              "      border-color: transparent;\n",
              "      border-bottom-color: var(--fill-color);\n",
              "      border-left-color: var(--fill-color);\n",
              "    }\n",
              "    20% {\n",
              "      border-color: transparent;\n",
              "      border-left-color: var(--fill-color);\n",
              "      border-top-color: var(--fill-color);\n",
              "    }\n",
              "    30% {\n",
              "      border-color: transparent;\n",
              "      border-left-color: var(--fill-color);\n",
              "      border-top-color: var(--fill-color);\n",
              "      border-right-color: var(--fill-color);\n",
              "    }\n",
              "    40% {\n",
              "      border-color: transparent;\n",
              "      border-right-color: var(--fill-color);\n",
              "      border-top-color: var(--fill-color);\n",
              "    }\n",
              "    60% {\n",
              "      border-color: transparent;\n",
              "      border-right-color: var(--fill-color);\n",
              "    }\n",
              "    80% {\n",
              "      border-color: transparent;\n",
              "      border-right-color: var(--fill-color);\n",
              "      border-bottom-color: var(--fill-color);\n",
              "    }\n",
              "    90% {\n",
              "      border-color: transparent;\n",
              "      border-bottom-color: var(--fill-color);\n",
              "    }\n",
              "  }\n",
              "</style>\n",
              "\n",
              "  <script>\n",
              "    async function quickchart(key) {\n",
              "      const quickchartButtonEl =\n",
              "        document.querySelector('#' + key + ' button');\n",
              "      quickchartButtonEl.disabled = true;  // To prevent multiple clicks.\n",
              "      quickchartButtonEl.classList.add('colab-df-spinner');\n",
              "      try {\n",
              "        const charts = await google.colab.kernel.invokeFunction(\n",
              "            'suggestCharts', [key], {});\n",
              "      } catch (error) {\n",
              "        console.error('Error during call to suggestCharts:', error);\n",
              "      }\n",
              "      quickchartButtonEl.classList.remove('colab-df-spinner');\n",
              "      quickchartButtonEl.classList.add('colab-df-quickchart-complete');\n",
              "    }\n",
              "    (() => {\n",
              "      let quickchartButtonEl =\n",
              "        document.querySelector('#df-6299d265-6256-4ec3-824b-d5a7e671b57d button');\n",
              "      quickchartButtonEl.style.display =\n",
              "        google.colab.kernel.accessAllowed ? 'block' : 'none';\n",
              "    })();\n",
              "  </script>\n",
              "</div>\n",
              "\n",
              "    </div>\n",
              "  </div>\n"
            ],
            "application/vnd.google.colaboratory.intrinsic+json": {
              "type": "dataframe",
              "variable_name": "players_500"
            }
          },
          "metadata": {},
          "execution_count": 16
        },
        {
          "output_type": "stream",
          "name": "stdout",
          "text": [
            "Warning: Total number of columns (21) exceeds max_columns (20) limiting to first (20) columns.\n"
          ]
        }
      ]
    },
    {
      "cell_type": "markdown",
      "source": [
        "From this filtered DataFrame, determine the player with the highest total assists (AST)."
      ],
      "metadata": {
        "id": "ZnHxeby4V9RU"
      }
    },
    {
      "cell_type": "code",
      "source": [
        "highest_assists = players_500.loc[players_500['AST'].idxmax()]\n",
        "\n",
        "print(f\"The player with the highest total assists and played more than 500 minutes is: {highest_assists['Player']}\")\n"
      ],
      "metadata": {
        "colab": {
          "base_uri": "https://localhost:8080/"
        },
        "id": "FBM3bkfMWBu3",
        "outputId": "1fcf3cf0-ef5c-49f1-e329-5d8f03bb42d3"
      },
      "execution_count": 18,
      "outputs": [
        {
          "output_type": "stream",
          "name": "stdout",
          "text": [
            "The player with the highest total assists and played more than 500 minutes is: Reece Beekman\n"
          ]
        }
      ]
    },
    {
      "cell_type": "markdown",
      "source": [
        "Who are the top 3 Assist Leads in the League?"
      ],
      "metadata": {
        "id": "SfIrazTQWX7L"
      }
    },
    {
      "cell_type": "code",
      "source": [
        "# Sort the DataFrame by total assists (AST) in descending order and get the top 3\n",
        "assist_leaders = acc_players_2324.sort_values('AST', ascending=False).head(3)\n",
        "\n",
        "# Display the top 3 players\n",
        "print(\"Top 3 Assist Leaders in the League:\")\n",
        "print(assist_leaders[['Player', 'AST']])\n"
      ],
      "metadata": {
        "colab": {
          "base_uri": "https://localhost:8080/"
        },
        "id": "09Q4smIZWce4",
        "outputId": "2a4cde81-ac95-4821-f656-9cf267ab098a"
      },
      "execution_count": 19,
      "outputs": [
        {
          "output_type": "stream",
          "name": "stdout",
          "text": [
            "Top 3 Assist Leaders in the League:\n",
            "             Player  AST\n",
            "7     Reece Beekman  212\n",
            "215  Jaeden Zackery  152\n",
            "21    Elliot Cadeau  150\n"
          ]
        }
      ]
    },
    {
      "cell_type": "markdown",
      "source": [
        "Who are the top 3 Shot Blockers?"
      ],
      "metadata": {
        "id": "DJpbZQ6TWq4z"
      }
    },
    {
      "cell_type": "code",
      "source": [
        "# Sort the DataFrame by total blocks (BLK) in descending order and get the top 3\n",
        "block_leaders = acc_players_2324.sort_values('BLK', ascending=False).head(3)\n",
        "\n",
        "# Display the top 3 players\n",
        "print(\"Top 3 Shot Block Leaders in the League:\")\n",
        "print(block_leaders[['Player', 'BLK']])\n"
      ],
      "metadata": {
        "colab": {
          "base_uri": "https://localhost:8080/"
        },
        "id": "xxtMCUjZWugu",
        "outputId": "eeb3c3a6-b978-4006-ef7f-587dff9be188"
      },
      "execution_count": 20,
      "outputs": [
        {
          "output_type": "stream",
          "name": "stdout",
          "text": [
            "Top 3 Shot Block Leaders in the League:\n",
            "            Player  BLK\n",
            "51       Ryan Dunn   77\n",
            "157   Quinten Post   61\n",
            "5    Armando Bacot   56\n"
          ]
        }
      ]
    },
    {
      "cell_type": "markdown",
      "source": [
        "**4. School-Based Analysis**\n",
        "\n",
        "Group the players by School and calculate the total points scored by each school."
      ],
      "metadata": {
        "id": "Y-_LxLhYWzn-"
      }
    },
    {
      "cell_type": "markdown",
      "source": [],
      "metadata": {
        "id": "zPMo1X5zXo7y"
      }
    },
    {
      "cell_type": "code",
      "source": [
        "school_points = acc_players_2324.groupby('School')['PTS'].sum()\n",
        "\n",
        "# Display the total points scored by each school\n",
        "print(\"Total points scored by each school:\")\n",
        "school_points"
      ],
      "metadata": {
        "colab": {
          "base_uri": "https://localhost:8080/",
          "height": 604
        },
        "id": "2gUSXLVqXAeg",
        "outputId": "342ed1b9-40d5-45bc-97d6-cc07c8d5d51a"
      },
      "execution_count": 29,
      "outputs": [
        {
          "output_type": "stream",
          "name": "stdout",
          "text": [
            "Total points scored by each school:\n"
          ]
        },
        {
          "output_type": "execute_result",
          "data": {
            "text/plain": [
              "School\n",
              "Boston College    2667\n",
              "Clemson           2785\n",
              "Duke              2830\n",
              "Florida State     2526\n",
              "Georgia Tech      2272\n",
              "Louisville        2304\n",
              "Miami (FL)        2424\n",
              "NC State          3101\n",
              "North Carolina    3032\n",
              "Notre Dame        2113\n",
              "Pittsburgh        2495\n",
              "Syracuse          2442\n",
              "Virginia          2140\n",
              "Virginia Tech     2547\n",
              "Wake Forest       2733\n",
              "Name: PTS, dtype: int64"
            ],
            "text/html": [
              "<div>\n",
              "<style scoped>\n",
              "    .dataframe tbody tr th:only-of-type {\n",
              "        vertical-align: middle;\n",
              "    }\n",
              "\n",
              "    .dataframe tbody tr th {\n",
              "        vertical-align: top;\n",
              "    }\n",
              "\n",
              "    .dataframe thead th {\n",
              "        text-align: right;\n",
              "    }\n",
              "</style>\n",
              "<table border=\"1\" class=\"dataframe\">\n",
              "  <thead>\n",
              "    <tr style=\"text-align: right;\">\n",
              "      <th></th>\n",
              "      <th>PTS</th>\n",
              "    </tr>\n",
              "    <tr>\n",
              "      <th>School</th>\n",
              "      <th></th>\n",
              "    </tr>\n",
              "  </thead>\n",
              "  <tbody>\n",
              "    <tr>\n",
              "      <th>Boston College</th>\n",
              "      <td>2667</td>\n",
              "    </tr>\n",
              "    <tr>\n",
              "      <th>Clemson</th>\n",
              "      <td>2785</td>\n",
              "    </tr>\n",
              "    <tr>\n",
              "      <th>Duke</th>\n",
              "      <td>2830</td>\n",
              "    </tr>\n",
              "    <tr>\n",
              "      <th>Florida State</th>\n",
              "      <td>2526</td>\n",
              "    </tr>\n",
              "    <tr>\n",
              "      <th>Georgia Tech</th>\n",
              "      <td>2272</td>\n",
              "    </tr>\n",
              "    <tr>\n",
              "      <th>Louisville</th>\n",
              "      <td>2304</td>\n",
              "    </tr>\n",
              "    <tr>\n",
              "      <th>Miami (FL)</th>\n",
              "      <td>2424</td>\n",
              "    </tr>\n",
              "    <tr>\n",
              "      <th>NC State</th>\n",
              "      <td>3101</td>\n",
              "    </tr>\n",
              "    <tr>\n",
              "      <th>North Carolina</th>\n",
              "      <td>3032</td>\n",
              "    </tr>\n",
              "    <tr>\n",
              "      <th>Notre Dame</th>\n",
              "      <td>2113</td>\n",
              "    </tr>\n",
              "    <tr>\n",
              "      <th>Pittsburgh</th>\n",
              "      <td>2495</td>\n",
              "    </tr>\n",
              "    <tr>\n",
              "      <th>Syracuse</th>\n",
              "      <td>2442</td>\n",
              "    </tr>\n",
              "    <tr>\n",
              "      <th>Virginia</th>\n",
              "      <td>2140</td>\n",
              "    </tr>\n",
              "    <tr>\n",
              "      <th>Virginia Tech</th>\n",
              "      <td>2547</td>\n",
              "    </tr>\n",
              "    <tr>\n",
              "      <th>Wake Forest</th>\n",
              "      <td>2733</td>\n",
              "    </tr>\n",
              "  </tbody>\n",
              "</table>\n",
              "</div><br><label><b>dtype:</b> int64</label>"
            ]
          },
          "metadata": {},
          "execution_count": 29
        }
      ]
    },
    {
      "cell_type": "markdown",
      "source": [
        "Group the players by School and calculate the total assists (AST) for each team."
      ],
      "metadata": {
        "id": "h04YV41KXXKS"
      }
    },
    {
      "cell_type": "code",
      "source": [
        "school_assists = acc_players_2324.groupby('School')['AST'].sum()\n",
        "\n",
        "# Display the total assists for each school\n",
        "print(\"Total assists by each school:\")\n",
        "school_assists"
      ],
      "metadata": {
        "colab": {
          "base_uri": "https://localhost:8080/",
          "height": 604
        },
        "id": "lCHZ50xXXWBa",
        "outputId": "ee6f5500-df80-4448-b8bc-b0cb80c80523"
      },
      "execution_count": 31,
      "outputs": [
        {
          "output_type": "stream",
          "name": "stdout",
          "text": [
            "Total assists by each school:\n"
          ]
        },
        {
          "output_type": "execute_result",
          "data": {
            "text/plain": [
              "School\n",
              "Boston College    509\n",
              "Clemson           533\n",
              "Duke              551\n",
              "Florida State     406\n",
              "Georgia Tech      425\n",
              "Louisville        356\n",
              "Miami (FL)        454\n",
              "NC State          536\n",
              "North Carolina    536\n",
              "Notre Dame        335\n",
              "Pittsburgh        452\n",
              "Syracuse          442\n",
              "Virginia          509\n",
              "Virginia Tech     514\n",
              "Wake Forest       429\n",
              "Name: AST, dtype: int64"
            ],
            "text/html": [
              "<div>\n",
              "<style scoped>\n",
              "    .dataframe tbody tr th:only-of-type {\n",
              "        vertical-align: middle;\n",
              "    }\n",
              "\n",
              "    .dataframe tbody tr th {\n",
              "        vertical-align: top;\n",
              "    }\n",
              "\n",
              "    .dataframe thead th {\n",
              "        text-align: right;\n",
              "    }\n",
              "</style>\n",
              "<table border=\"1\" class=\"dataframe\">\n",
              "  <thead>\n",
              "    <tr style=\"text-align: right;\">\n",
              "      <th></th>\n",
              "      <th>AST</th>\n",
              "    </tr>\n",
              "    <tr>\n",
              "      <th>School</th>\n",
              "      <th></th>\n",
              "    </tr>\n",
              "  </thead>\n",
              "  <tbody>\n",
              "    <tr>\n",
              "      <th>Boston College</th>\n",
              "      <td>509</td>\n",
              "    </tr>\n",
              "    <tr>\n",
              "      <th>Clemson</th>\n",
              "      <td>533</td>\n",
              "    </tr>\n",
              "    <tr>\n",
              "      <th>Duke</th>\n",
              "      <td>551</td>\n",
              "    </tr>\n",
              "    <tr>\n",
              "      <th>Florida State</th>\n",
              "      <td>406</td>\n",
              "    </tr>\n",
              "    <tr>\n",
              "      <th>Georgia Tech</th>\n",
              "      <td>425</td>\n",
              "    </tr>\n",
              "    <tr>\n",
              "      <th>Louisville</th>\n",
              "      <td>356</td>\n",
              "    </tr>\n",
              "    <tr>\n",
              "      <th>Miami (FL)</th>\n",
              "      <td>454</td>\n",
              "    </tr>\n",
              "    <tr>\n",
              "      <th>NC State</th>\n",
              "      <td>536</td>\n",
              "    </tr>\n",
              "    <tr>\n",
              "      <th>North Carolina</th>\n",
              "      <td>536</td>\n",
              "    </tr>\n",
              "    <tr>\n",
              "      <th>Notre Dame</th>\n",
              "      <td>335</td>\n",
              "    </tr>\n",
              "    <tr>\n",
              "      <th>Pittsburgh</th>\n",
              "      <td>452</td>\n",
              "    </tr>\n",
              "    <tr>\n",
              "      <th>Syracuse</th>\n",
              "      <td>442</td>\n",
              "    </tr>\n",
              "    <tr>\n",
              "      <th>Virginia</th>\n",
              "      <td>509</td>\n",
              "    </tr>\n",
              "    <tr>\n",
              "      <th>Virginia Tech</th>\n",
              "      <td>514</td>\n",
              "    </tr>\n",
              "    <tr>\n",
              "      <th>Wake Forest</th>\n",
              "      <td>429</td>\n",
              "    </tr>\n",
              "  </tbody>\n",
              "</table>\n",
              "</div><br><label><b>dtype:</b> int64</label>"
            ]
          },
          "metadata": {},
          "execution_count": 31
        }
      ]
    },
    {
      "cell_type": "markdown",
      "source": [
        "Sort the schools by total points scored and display the top 3 schools."
      ],
      "metadata": {
        "id": "sFtl-zwCYjEs"
      }
    },
    {
      "cell_type": "code",
      "source": [
        "top_points = school_points.sort_values(ascending=False).head(3)\n",
        "print(\"Top 3 schools by total points scored:\")\n",
        "top_points\n"
      ],
      "metadata": {
        "colab": {
          "base_uri": "https://localhost:8080/",
          "height": 227
        },
        "id": "UFpCZZx2X6_C",
        "outputId": "4eea324e-2a01-4b3e-ea46-fdf3cd609fb0"
      },
      "execution_count": 34,
      "outputs": [
        {
          "output_type": "stream",
          "name": "stdout",
          "text": [
            "Top 3 schools by total points scored:\n"
          ]
        },
        {
          "output_type": "execute_result",
          "data": {
            "text/plain": [
              "School\n",
              "NC State          3101\n",
              "North Carolina    3032\n",
              "Duke              2830\n",
              "Name: PTS, dtype: int64"
            ],
            "text/html": [
              "<div>\n",
              "<style scoped>\n",
              "    .dataframe tbody tr th:only-of-type {\n",
              "        vertical-align: middle;\n",
              "    }\n",
              "\n",
              "    .dataframe tbody tr th {\n",
              "        vertical-align: top;\n",
              "    }\n",
              "\n",
              "    .dataframe thead th {\n",
              "        text-align: right;\n",
              "    }\n",
              "</style>\n",
              "<table border=\"1\" class=\"dataframe\">\n",
              "  <thead>\n",
              "    <tr style=\"text-align: right;\">\n",
              "      <th></th>\n",
              "      <th>PTS</th>\n",
              "    </tr>\n",
              "    <tr>\n",
              "      <th>School</th>\n",
              "      <th></th>\n",
              "    </tr>\n",
              "  </thead>\n",
              "  <tbody>\n",
              "    <tr>\n",
              "      <th>NC State</th>\n",
              "      <td>3101</td>\n",
              "    </tr>\n",
              "    <tr>\n",
              "      <th>North Carolina</th>\n",
              "      <td>3032</td>\n",
              "    </tr>\n",
              "    <tr>\n",
              "      <th>Duke</th>\n",
              "      <td>2830</td>\n",
              "    </tr>\n",
              "  </tbody>\n",
              "</table>\n",
              "</div><br><label><b>dtype:</b> int64</label>"
            ]
          },
          "metadata": {},
          "execution_count": 34
        }
      ]
    },
    {
      "cell_type": "markdown",
      "source": [
        "**5. Extra Credit (Bonus):**\n",
        "\n",
        "Create a bar chart showing the top 5 players by total points scored (PTS)."
      ],
      "metadata": {
        "id": "ybUAZ9-VY1cG"
      }
    },
    {
      "cell_type": "code",
      "source": [
        "# Import dependencies\n",
        "import matplotlib.pyplot as plt\n",
        "\n",
        "# Sort the DataFrame by total points (PTS) in descending order and get the top 5\n",
        "top_5_scorers = acc_players_2324.sort_values('PTS', ascending=False).head(5)\n",
        "\n",
        "# Extract player names and total points\n",
        "player_names = top_5_scorers['Player']\n",
        "player_points = top_5_scorers['PTS']\n",
        "\n",
        "# Create a bar chart\n",
        "plt.figure(figsize=(10, 6))\n",
        "plt.bar(player_names, player_points)\n",
        "plt.xlabel('Player')\n",
        "plt.ylabel('Total Points Scored')\n",
        "plt.title('Top 5 Players by Total Points Scored')\n",
        "plt.xticks(rotation=45, ha='right')  # Rotate x-axis labels for better readability\n",
        "plt.tight_layout()\n",
        "plt.show()\n"
      ],
      "metadata": {
        "colab": {
          "base_uri": "https://localhost:8080/",
          "height": 495
        },
        "id": "waszTLIfY8fr",
        "outputId": "31b3856d-d3bb-4530-8f96-ee744204f010"
      },
      "execution_count": 35,
      "outputs": [
        {
          "output_type": "display_data",
          "data": {
            "text/plain": [
              "<Figure size 1000x600 with 1 Axes>"
            ],
            "image/png": "[encoded data removed]"
          },
          "metadata": {}
        }
      ]
    },
    {
      "cell_type": "markdown",
      "source": [
        "Correlation: Investigate whether there is any correlation between a player's field goal\n",
        "percentage (FG%) and their win shares (WS). Provide a scatter plot and calculate the\n",
        "correlation coefficient."
      ],
      "metadata": {
        "id": "ZU74iT0oZLZ-"
      }
    },
    {
      "cell_type": "code",
      "source": [
        "# Calculate the correlation coefficient between FG% and WS\n",
        "correlation = acc_players_2324['FG%'].corr(acc_players_2324['WS'])\n",
        "\n",
        "# Create a scatter plot of FG% vs. WS\n",
        "plt.figure(figsize=(8, 6))\n",
        "plt.scatter(acc_players_2324['FG%'], acc_players_2324['WS'])\n",
        "plt.xlabel('Field Goal Percentage (FG%)')\n",
        "plt.ylabel('Win Shares (WS)')\n",
        "plt.title('Correlation between FG% and WS')\n",
        "plt.grid(True)\n",
        "\n",
        "# Display the correlation coefficient on the plot\n",
        "plt.text(0.1, 0.9, f\"Correlation: {correlation:.2f}\", transform=plt.gca().transAxes)\n",
        "\n",
        "plt.show()\n",
        "\n",
        "print(f\"Correlation coefficient between FG% and WS: {correlation:.2f}\")"
      ],
      "metadata": {
        "colab": {
          "base_uri": "https://localhost:8080/",
          "height": 582
        },
        "id": "_-wEeoqWZLC0",
        "outputId": "83fdf48b-c036-489b-a2dc-973bc90228cc"
      },
      "execution_count": 36,
      "outputs": [
        {
          "output_type": "display_data",
          "data": {
            "text/plain": [
              "<Figure size 800x600 with 1 Axes>"
            ],
            "image/png": "[encoded data removed]"
          },
          "metadata": {}
        },
        {
          "output_type": "stream",
          "name": "stdout",
          "text": [
            "Correlation coefficient between FG% and WS: 0.42\n"
          ]
        }
      ]
    }
  ]
}